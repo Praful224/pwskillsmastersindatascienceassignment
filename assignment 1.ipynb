{
 "cells": [
  {
   "cell_type": "code",
   "execution_count": 1,
   "id": "b7ce84e6-e7bc-407b-96ed-39de054b4ef3",
   "metadata": {},
   "outputs": [],
   "source": [
    "#Q1.Explain with an example each when to use a for loop and a while loop."
   ]
  },
  {
   "cell_type": "code",
   "execution_count": 2,
   "id": "d64b92db-4643-4191-a665-c16f5dbf8ca5",
   "metadata": {},
   "outputs": [],
   "source": [
    "#A for loop is typically used when you know the exact number of times you need to iterate, whereas a while loop is used when the number of iterations is uncertain and dependent on a condition."
   ]
  },
  {
   "cell_type": "code",
   "execution_count": 3,
   "id": "26caad80-6954-4d06-9faa-4ff12570c8fc",
   "metadata": {},
   "outputs": [
    {
     "name": "stdout",
     "output_type": "stream",
     "text": [
      "1\n",
      "2\n",
      "3\n",
      "4\n",
      "5\n",
      "6\n",
      "7\n",
      "8\n",
      "9\n",
      "10\n"
     ]
    }
   ],
   "source": [
    "#we want to print values from 1 to 10\n",
    "for i in range(1, 11):\n",
    "    print(i)\n"
   ]
  },
  {
   "cell_type": "code",
   "execution_count": 4,
   "id": "90b4eadf-5974-4783-8c1a-291dc40d6e26",
   "metadata": {},
   "outputs": [
    {
     "name": "stdin",
     "output_type": "stream",
     "text": [
      "Please enter a valid response:  jgbkc\n",
      "Please enter a valid response:  8138\n",
      "Please enter a valid response:  -1nkd\n",
      "Please enter a valid response:  kbjcb\n",
      "Please enter a valid response:  valid\n"
     ]
    }
   ],
   "source": [
    "#if you wanted to keep prompting a user for input until they entered a valid response, you could use a while loop:\n",
    "valid_input = False\n",
    "while not valid_input:\n",
    "    user_input = input(\"Please enter a valid response: \")\n",
    "    if user_input == \"valid\":\n",
    "        valid_input = True\n"
   ]
  },
  {
   "cell_type": "code",
   "execution_count": 5,
   "id": "98445c2f-8373-429e-879a-cba03cb77a34",
   "metadata": {},
   "outputs": [],
   "source": [
    "#Q2. Write a python program to print the sum and product of the first 10 natural numbers using for\n",
    "#and while loop."
   ]
  },
  {
   "cell_type": "code",
   "execution_count": 6,
   "id": "f1f2baa3-775d-4e90-9491-50b35c2a9ce5",
   "metadata": {},
   "outputs": [
    {
     "data": {
      "text/plain": [
       "55"
      ]
     },
     "execution_count": 6,
     "metadata": {},
     "output_type": "execute_result"
    }
   ],
   "source": [
    "#using for loop\n",
    "sum =0\n",
    "for i in range(0,11):\n",
    "    sum=sum+i\n",
    "sum    \n"
   ]
  },
  {
   "cell_type": "code",
   "execution_count": 1,
   "id": "b1a57ef3-6b55-4f3a-a84b-96d48ac260e6",
   "metadata": {},
   "outputs": [
    {
     "name": "stdout",
     "output_type": "stream",
     "text": [
      "sum = 55\n"
     ]
    }
   ],
   "source": [
    "#using while loop\n",
    "n = 10\n",
    "total_numbers = n\n",
    "sum = 0\n",
    "while n >= 0:\n",
    "    sum += n\n",
    "    n -= 1\n",
    "print(\"sum =\", sum)\n",
    "\n",
    "    "
   ]
  },
  {
   "cell_type": "code",
   "execution_count": null,
   "id": "5ccde498-135a-4ec6-a484-5e72afeb5055",
   "metadata": {},
   "outputs": [],
   "source": [
    "#Q3. Create a python program to compute the electricity bill for a household.\n",
    "#The per-unit charges in rupees are as follows: For the first 100 units, the user will be charged Rs. 4.5 per\n",
    "#unit, for the next 100 units, the user will be charged Rs. 6 per unit, and for the next 100 units, the user will\n",
    "#be charged Rs. 10 per unit, After 300 units and above the user will be charged Rs. 20 per unit.***"
   ]
  },
  {
   "cell_type": "code",
   "execution_count": 12,
   "id": "3b848200-861d-4d4a-9c0e-541f4bfb7784",
   "metadata": {},
   "outputs": [
    {
     "name": "stdin",
     "output_type": "stream",
     "text": [
      "Input your billing unit 310\n"
     ]
    },
    {
     "name": "stdout",
     "output_type": "stream",
     "text": [
      "310\n",
      "total charge for bill is ₹ 6200\n"
     ]
    }
   ],
   "source": [
    "unit=int(input(\"Input your billing unit\"))\n",
    "print(unit)\n",
    "if unit<=100:\n",
    "    print(\"total charge for bill is ₹\",4.5*unit)\n",
    "elif unit>=100 and unit<=200:\n",
    "    print(\"total charge for bill is ₹\",6*unit)\n",
    "elif unit>=200 and unit<=300:\n",
    "    print(\"total charge for bill is ₹\",10*unit)\n",
    "elif unit>300:    \n",
    "    print(\"total charge for bill is ₹\",20*unit)"
   ]
  },
  {
   "cell_type": "code",
   "execution_count": 13,
   "id": "0bc8e227-9adf-487b-baf8-3169395b979d",
   "metadata": {},
   "outputs": [],
   "source": [
    "#Q4. Create a list of numbers from 1 to 100. Use for loop and while loop to calculate the cube of each\n",
    "#number and if the cube of that number is divisible by 4 or 5 then append that number in a list and print\n",
    "#that list."
   ]
  },
  {
   "cell_type": "code",
   "execution_count": 20,
   "id": "85ac1ac2-32a7-4722-8547-d652f9bf1f6f",
   "metadata": {},
   "outputs": [
    {
     "name": "stdout",
     "output_type": "stream",
     "text": [
      "1\n",
      "8\n",
      "27\n",
      "64\n",
      "125\n",
      "216\n",
      "343\n",
      "512\n",
      "729\n",
      "1000\n",
      "1331\n",
      "1728\n",
      "2197\n",
      "2744\n",
      "3375\n",
      "4096\n",
      "4913\n",
      "5832\n",
      "6859\n",
      "8000\n",
      "9261\n",
      "10648\n",
      "12167\n",
      "13824\n",
      "15625\n",
      "17576\n",
      "19683\n",
      "21952\n",
      "24389\n",
      "27000\n",
      "29791\n",
      "32768\n",
      "35937\n",
      "39304\n",
      "42875\n",
      "46656\n",
      "50653\n",
      "54872\n",
      "59319\n",
      "64000\n",
      "68921\n",
      "74088\n",
      "79507\n",
      "85184\n",
      "91125\n",
      "97336\n",
      "103823\n",
      "110592\n",
      "117649\n",
      "125000\n",
      "132651\n",
      "140608\n",
      "148877\n",
      "157464\n",
      "166375\n",
      "175616\n",
      "185193\n",
      "195112\n",
      "205379\n",
      "216000\n",
      "226981\n",
      "238328\n",
      "250047\n",
      "262144\n",
      "274625\n",
      "287496\n",
      "300763\n",
      "314432\n",
      "328509\n",
      "343000\n",
      "357911\n",
      "373248\n",
      "389017\n",
      "405224\n",
      "421875\n",
      "438976\n",
      "456533\n",
      "474552\n",
      "493039\n",
      "512000\n",
      "531441\n",
      "551368\n",
      "571787\n",
      "592704\n",
      "614125\n",
      "636056\n",
      "658503\n",
      "681472\n",
      "704969\n",
      "729000\n",
      "753571\n",
      "778688\n",
      "804357\n",
      "830584\n",
      "857375\n",
      "884736\n",
      "912673\n",
      "941192\n",
      "970299\n",
      "the list is [8, 64, 125, 216, 512, 1000, 1728, 2744, 3375, 4096, 5832, 8000, 10648, 13824, 15625, 17576, 21952, 27000, 32768, 39304, 42875, 46656, 54872, 64000, 74088, 85184, 91125, 97336, 110592, 125000, 140608, 157464, 166375, 175616, 195112, 216000, 238328, 262144, 274625, 287496, 314432, 343000, 373248, 405224, 421875, 438976, 474552, 512000, 551368, 592704, 614125, 636056, 681472, 729000, 778688, 830584, 857375, 884736, 941192]\n"
     ]
    }
   ],
   "source": [
    "l1=[]\n",
    "l2=[]\n",
    "for i in range(1,100):\n",
    "    print(i**3)\n",
    "    if i**3%4==0 or i**3%5==0:\n",
    "        l1.append(i**3)\n",
    "print(\"the list is\",l1)       \n",
    "        \n"
   ]
  },
  {
   "cell_type": "code",
   "execution_count": 21,
   "id": "3eee7dff-4da7-4c43-bec7-586c13bcc398",
   "metadata": {},
   "outputs": [],
   "source": [
    "#Q5. Write a program to filter count vowels in the below-given string.\n",
    "#string = \"I want to become a data scientist\""
   ]
  },
  {
   "cell_type": "code",
   "execution_count": 25,
   "id": "062a0158-0be6-4243-bc11-1d2a2836b90e",
   "metadata": {},
   "outputs": [
    {
     "name": "stdout",
     "output_type": "stream",
     "text": [
      "Number of vowels: 12\n"
     ]
    }
   ],
   "source": [
    "str=\"I want to become a data scientist\"\n",
    "vowels = \"aeiou\"\n",
    "count = 0\n",
    "\n",
    "# loop through each character in the string\n",
    "for char in str:\n",
    "    # check if the character is a vowel\n",
    "    if char.lower() in vowels:\n",
    "        count += 1\n",
    "\n",
    "print(\"Number of vowels:\", count)\n"
   ]
  },
  {
   "cell_type": "code",
   "execution_count": null,
   "id": "625983af-9b7b-4de5-a4ad-deb426a195ff",
   "metadata": {},
   "outputs": [],
   "source": []
  }
 ],
 "metadata": {
  "kernelspec": {
   "display_name": "Python 3 (ipykernel)",
   "language": "python",
   "name": "python3"
  },
  "language_info": {
   "codemirror_mode": {
    "name": "ipython",
    "version": 3
   },
   "file_extension": ".py",
   "mimetype": "text/x-python",
   "name": "python",
   "nbconvert_exporter": "python",
   "pygments_lexer": "ipython3",
   "version": "3.10.8"
  }
 },
 "nbformat": 4,
 "nbformat_minor": 5
}
