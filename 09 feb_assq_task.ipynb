{
 "cells": [
  {
   "cell_type": "markdown",
   "id": "c2ac8ba3-5f38-4581-8f6c-969af46a6d20",
   "metadata": {},
   "source": [
    "Q1, Create a vehicle class with an init method having instance variables as name_of_vehicle, max_speed\n",
    "and average_of_vehicle.\n",
    "        "
   ]
  },
  {
   "cell_type": "code",
   "execution_count": 1,
   "id": "2dc064b1-8770-437f-86d1-fb4e0462aec8",
   "metadata": {},
   "outputs": [],
   "source": [
    "class vehicle:\n",
    "    def __init__(self,name_of_vehicle,max_speed,average_of_vehicle):\n",
    "        self.name_of_vehicle=name_of_vehicle\n",
    "        self.max_speed=max_speed\n",
    "        self.average_of_vehicle=average_of_vehicle\n",
    "        "
   ]
  },
  {
   "cell_type": "code",
   "execution_count": 2,
   "id": "0174accd-7035-484c-9461-4a85598d83ba",
   "metadata": {},
   "outputs": [],
   "source": [
    "my_car=vehicle(\"tata tigor\",180,100)"
   ]
  },
  {
   "cell_type": "code",
   "execution_count": 3,
   "id": "9f4e01c7-55e1-4315-b3ec-04828b40018d",
   "metadata": {},
   "outputs": [
    {
     "data": {
      "text/plain": [
       "'tata tigor'"
      ]
     },
     "execution_count": 3,
     "metadata": {},
     "output_type": "execute_result"
    }
   ],
   "source": [
    "my_car.name_of_vehicle"
   ]
  },
  {
   "cell_type": "code",
   "execution_count": 6,
   "id": "5258b997-2952-4717-b5bf-84f7f31efa30",
   "metadata": {},
   "outputs": [
    {
     "data": {
      "text/plain": [
       "100"
      ]
     },
     "execution_count": 6,
     "metadata": {},
     "output_type": "execute_result"
    }
   ],
   "source": [
    "\n",
    "my_car.average_of_vehicle"
   ]
  },
  {
   "cell_type": "code",
   "execution_count": 7,
   "id": "1d4dab17-9e33-4108-b11f-0274fe0729f4",
   "metadata": {},
   "outputs": [
    {
     "data": {
      "text/plain": [
       "180"
      ]
     },
     "execution_count": 7,
     "metadata": {},
     "output_type": "execute_result"
    }
   ],
   "source": [
    "my_car.max_speed"
   ]
  },
  {
   "cell_type": "markdown",
   "id": "2470989d-7917-4fc1-bc42-98ee93a8bb96",
   "metadata": {},
   "source": [
    "Q2. Create a child class car from the vehicle class created in Que 1, which will inherit the vehicle class.\n",
    "Create a method named seating_capacity which takes capacity as an argument and returns the name of\n",
    "the vehicle and its seating capacity."
   ]
  },
  {
   "cell_type": "code",
   "execution_count": 9,
   "id": "cee4bf12-5c0b-4f24-a1b3-9f95069bbb51",
   "metadata": {},
   "outputs": [],
   "source": [
    "class car(vehicle):\n",
    "    def seating_capacity(self,capacity):\n",
    "        return f\"{self.name_of_vehicle} has seating capacity of {capacity}people.\""
   ]
  },
  {
   "cell_type": "code",
   "execution_count": null,
   "id": "4f061971-ecd4-435d-8434-ee09ef8c4a78",
   "metadata": {},
   "outputs": [],
   "source": []
  },
  {
   "cell_type": "code",
   "execution_count": 10,
   "id": "b83275b5-a202-48e0-8d6b-0f52a0ae88b0",
   "metadata": {},
   "outputs": [
    {
     "data": {
      "text/plain": [
       "'tata tigor has seating capacity of 5people.'"
      ]
     },
     "execution_count": 10,
     "metadata": {},
     "output_type": "execute_result"
    }
   ],
   "source": [
    "my_car=car(\"tata tigor\",150,30)\n",
    "my_car.seating_capacity(5)"
   ]
  },
  {
   "cell_type": "code",
   "execution_count": 11,
   "id": "541c7dce-1264-4064-a8d6-5ed67658faea",
   "metadata": {},
   "outputs": [],
   "source": [
    "class vehicle2:\n",
    "    def __init__(self,name_of_vehicle):\n",
    "        self.name_of_vehicle=name_of_vehicle\n",
    "    def drive(self):\n",
    "        print(f\"{self.name_of_vehicle} is driving.\")\n",
    "class airplane:\n",
    "    def fly(self):\n",
    "        print(\"the airplane is flying\")\n",
    "class flyingcar(vehicle2,airplane):\n",
    "    def __init__(self,name_of_vehicle):\n",
    "        vehicle2.__init__(self,name_of_vehicle)\n",
    "        airplane.__init__(self)\n",
    "    def fly(self):\n",
    "        print(f\"{self.name_of_vehicle} is flying like an airplane\")"
   ]
  },
  {
   "cell_type": "code",
   "execution_count": 12,
   "id": "d2de206f-8ac2-4ffc-832b-c9ba872ca800",
   "metadata": {},
   "outputs": [],
   "source": [
    "my_flying_car=flyingcar(\"udti hui car\")"
   ]
  },
  {
   "cell_type": "code",
   "execution_count": 13,
   "id": "60879a92-a1d5-4261-b0f3-d281c60f857c",
   "metadata": {},
   "outputs": [
    {
     "name": "stdout",
     "output_type": "stream",
     "text": [
      "udti hui car is driving.\n"
     ]
    }
   ],
   "source": [
    "my_flying_car.drive()"
   ]
  },
  {
   "cell_type": "code",
   "execution_count": 14,
   "id": "b7060fbd-20c5-4a08-b478-7ec13b1e68b9",
   "metadata": {},
   "outputs": [
    {
     "name": "stdout",
     "output_type": "stream",
     "text": [
      "udti hui car is flying like an airplane\n"
     ]
    }
   ],
   "source": [
    "my_flying_car.fly()"
   ]
  },
  {
   "cell_type": "markdown",
   "id": "b65c42f7-01bb-44f5-92e7-c3051c4a884f",
   "metadata": {},
   "source": [
    "Q4. What are getter and setter in python? Create a class and create a getter and a setter method in this\n",
    "class."
   ]
  },
  {
   "cell_type": "code",
   "execution_count": 15,
   "id": "5fd6208a-14e7-46f8-8954-1618b76529f5",
   "metadata": {},
   "outputs": [],
   "source": [
    "class student:\n",
    "    def __init__(self,name,age):\n",
    "        self.name=name\n",
    "        self.age=age\n",
    "    def get_name(self):\n",
    "        return self.name\n",
    "    def set_name(self,name):\n",
    "        self.__name=name\n",
    "    def get_age(self):\n",
    "        return self.age\n",
    "    def set_age(self,age):\n",
    "        if age>0 and age<120:\n",
    "            self.__age=age\n",
    "        else:\n",
    "            print(\"invalid age\")"
   ]
  },
  {
   "cell_type": "code",
   "execution_count": 16,
   "id": "59d86051-cb1d-434c-a9c9-bab46e851507",
   "metadata": {},
   "outputs": [],
   "source": [
    "st1=student(\"PRAFUL\",22)"
   ]
  },
  {
   "cell_type": "code",
   "execution_count": 17,
   "id": "0bacf426-e9ab-4acc-b4e3-504c6e71516c",
   "metadata": {},
   "outputs": [
    {
     "data": {
      "text/plain": [
       "'PRAFUL'"
      ]
     },
     "execution_count": 17,
     "metadata": {},
     "output_type": "execute_result"
    }
   ],
   "source": [
    "st1.get_name()"
   ]
  },
  {
   "cell_type": "code",
   "execution_count": 18,
   "id": "c7915932-e260-4479-b7ff-e8cdd877fe6d",
   "metadata": {},
   "outputs": [
    {
     "data": {
      "text/plain": [
       "22"
      ]
     },
     "execution_count": 18,
     "metadata": {},
     "output_type": "execute_result"
    }
   ],
   "source": [
    "st1.get_age()"
   ]
  },
  {
   "cell_type": "markdown",
   "id": "48124a49-b750-4ce3-88fc-d4fa62b8826e",
   "metadata": {},
   "source": [
    "Q5.What is method overriding in python? Write a python code to demonstrate method overriding."
   ]
  },
  {
   "cell_type": "code",
   "execution_count": null,
   "id": "e078db1a-a431-4b24-9044-fdda724d1cf6",
   "metadata": {},
   "outputs": [],
   "source": [
    "class animal:\n",
    "    def make_sound(self):\n",
    "        print(\"generic animal sound\")\n",
    "class cat(animal):\n",
    "    def make_sound(self):\n",
    "        print(\"meow\")\n",
    "class do        "
   ]
  }
 ],
 "metadata": {
  "kernelspec": {
   "display_name": "Python 3 (ipykernel)",
   "language": "python",
   "name": "python3"
  },
  "language_info": {
   "codemirror_mode": {
    "name": "ipython",
    "version": 3
   },
   "file_extension": ".py",
   "mimetype": "text/x-python",
   "name": "python",
   "nbconvert_exporter": "python",
   "pygments_lexer": "ipython3",
   "version": "3.10.8"
  }
 },
 "nbformat": 4,
 "nbformat_minor": 5
}
