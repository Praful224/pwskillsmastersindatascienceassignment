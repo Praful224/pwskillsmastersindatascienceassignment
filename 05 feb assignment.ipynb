{
 "cells": [
  {
   "cell_type": "markdown",
   "id": "49b97743-03be-4876-a354-2c1d51e0582b",
   "metadata": {},
   "source": [
    "Q1. Explain Class and Object with respect to Object-Oriented Programming. Give a suitable example."
   ]
  },
  {
   "cell_type": "code",
   "execution_count": 1,
   "id": "4f029141-e362-45d4-ba85-4865abe2d488",
   "metadata": {},
   "outputs": [
    {
     "data": {
      "text/plain": [
       "'In object-oriented programming, a class is a blueprint or a template that defines the properties and behavior of a set of objects. An object, on the other hand, is an instance of a class, created from the blueprint defined by the class.\\n\\n'"
      ]
     },
     "execution_count": 1,
     "metadata": {},
     "output_type": "execute_result"
    }
   ],
   "source": [
    "\"\"\"In object-oriented programming, a class is a blueprint or a template that defines the properties and behavior of a set of objects. An object, on the other hand, is an instance of a class, created from the blueprint defined by the class.\n",
    "\n",
    "\"\"\""
   ]
  },
  {
   "cell_type": "code",
   "execution_count": 2,
   "id": "b2dad137-4943-4120-9adf-5e29fb254454",
   "metadata": {},
   "outputs": [],
   "source": [
    "class pwskills1:\n",
    "    \n",
    "    def __init__(self,phone_number,email_id,student_id):\n",
    "        self.phone_number=phone_number\n",
    "        self.email_id=email_id\n",
    "        self.student_id=student_id\n",
    "    def return_student_details(self):\n",
    "        return self.student_id,self.phone_number,self.email_id"
   ]
  },
  {
   "cell_type": "code",
   "execution_count": 3,
   "id": "ff033b2d-1677-410a-b05a-91c6e02a125d",
   "metadata": {},
   "outputs": [],
   "source": [
    "praful=pwskills1(87677455656,\"praful@gmail.com\",5)"
   ]
  },
  {
   "cell_type": "code",
   "execution_count": 4,
   "id": "ac7ff887-8938-4184-ad86-1c789ea94293",
   "metadata": {},
   "outputs": [
    {
     "data": {
      "text/plain": [
       "(5, 87677455656, 'praful@gmail.com')"
      ]
     },
     "execution_count": 4,
     "metadata": {},
     "output_type": "execute_result"
    }
   ],
   "source": [
    "praful.return_student_details()\n"
   ]
  },
  {
   "cell_type": "code",
   "execution_count": 5,
   "id": "661485b4-1b99-4772-b1de-24103e4debd8",
   "metadata": {},
   "outputs": [
    {
     "data": {
      "text/plain": [
       "87677455656"
      ]
     },
     "execution_count": 5,
     "metadata": {},
     "output_type": "execute_result"
    }
   ],
   "source": [
    "praful.phone_number"
   ]
  },
  {
   "cell_type": "markdown",
   "id": "b83b5fa0-d9dc-4fb3-907d-0c689ad1df8b",
   "metadata": {},
   "source": [
    "Q2. Name the four pillars of OOPs."
   ]
  },
  {
   "cell_type": "markdown",
   "id": "5d27e966-06be-46e7-a7c0-1b2d5c03a39a",
   "metadata": {},
   "source": [
    "The four pillars of Object-Oriented Programming (OOP) are:\n",
    "\n",
    "Encapsulation: Encapsulation refers to the technique of hiding the internal details of an object from the outside world and providing a public interface to access and modify the object's state. Encapsulation helps to achieve data security, data integrity, and code maintainability.\n",
    "\n",
    "Inheritance: Inheritance is a mechanism in which a new class is created by inheriting the properties and behavior of an existing class. The new class is called the derived class or subclass, and the existing class is called the base class or superclass. Inheritance facilitates code reuse, reduces code redundancy, and enhances code readability.\n",
    "\n",
    "Polymorphism: Polymorphism means the ability of an object to take on many forms or the ability of a method to behave in different ways depending on the context of its invocation. Polymorphism enables code flexibility, code extensibility, and code reuse.\n",
    "\n",
    "Abstraction: Abstraction refers to the technique of representing complex real-world entities as simplified models in software. Abstraction involves identifying the essential features and ignoring the non-essential features of an object or a system. Abstraction helps to reduce code complexity, enhance code readability, and improve code maintainability."
   ]
  },
  {
   "cell_type": "markdown",
   "id": "b4fc8e1b-b603-4d49-86ec-db9025d6c34e",
   "metadata": {},
   "source": [
    "Q3. Explain why the __init__() function is used. Give a suitable example."
   ]
  },
  {
   "cell_type": "markdown",
   "id": "f30f0fc9-6d22-4b62-be46-2c46f1fc8a10",
   "metadata": {},
   "source": [
    "In Python, __init__() is a special method that gets called automatically when an object is created from a class. The purpose of the __init__() method is to initialize the object's attributes or perform any other setup that needs to be done when an object is created."
   ]
  },
  {
   "cell_type": "code",
   "execution_count": 1,
   "id": "3a8df683-94ea-4f42-92dc-d992e4935529",
   "metadata": {},
   "outputs": [
    {
     "name": "stdout",
     "output_type": "stream",
     "text": [
      "2022 Honda Civic\n",
      "This car has 100 miles on it.\n"
     ]
    }
   ],
   "source": [
    "class Car:\n",
    "    def __init__(self, make, model, year):\n",
    "        self.make = make\n",
    "        self.model = model\n",
    "        self.year = year\n",
    "        self.odometer_reading = 0\n",
    "        \n",
    "    def get_descriptive_name(self):\n",
    "        long_name = f\"{self.year} {self.make} {self.model}\"\n",
    "        return long_name.title()\n",
    "\n",
    "    def read_odometer(self):\n",
    "        print(f\"This car has {self.odometer_reading} miles on it.\")\n",
    "\n",
    "    def update_odometer(self, mileage):\n",
    "        if mileage >= self.odometer_reading:\n",
    "            self.odometer_reading = mileage\n",
    "        else:\n",
    "            print(\"You can't roll back an odometer!\")\n",
    "            \n",
    "my_car = Car('Honda', 'Civic', 2022)\n",
    "print(my_car.get_descriptive_name())\n",
    "my_car.update_odometer(100)\n",
    "my_car.read_odometer()\n"
   ]
  },
  {
   "cell_type": "markdown",
   "id": "5d77840e-689e-4b9b-ba5b-a71d9a6d81d4",
   "metadata": {},
   "source": [
    "Q4. Why self is used in OOPs?"
   ]
  },
  {
   "cell_type": "markdown",
   "id": "7e942129-d02c-409a-9fe9-7c5d154c7e95",
   "metadata": {},
   "source": [
    "In Object-Oriented Programming (OOP), self is a reference to the instance of a class. It is used to refer to the current object that the method is being called on.\n",
    "\n",
    "When a method is called on an instance of a class, Python automatically passes the instance as the first argument to the method. By convention, this argument is named self. This allows us to access the instance's attributes and methods within the method."
   ]
  },
  {
   "cell_type": "markdown",
   "id": "7b53d271-72c7-4cb6-afa7-b02e8001d0b1",
   "metadata": {},
   "source": [
    "Q5. What is inheritance? Give an example for each type of inheritance."
   ]
  },
  {
   "cell_type": "markdown",
   "id": "3fad6133-0241-41f0-868d-c2bf76feaab1",
   "metadata": {},
   "source": [
    "Inheritance is one of the key concepts in Object-Oriented Programming (OOP) that allows a class to inherit properties (methods and attributes) from another class. The class that is being inherited from is called the parent class (or superclass), and the class that inherits from it is called the child class (or subclass).\n",
    "\n",
    "There are three types of inheritance in Python:\n",
    "\n",
    "Single inheritance: When a child class inherits from a single parent class."
   ]
  },
  {
   "cell_type": "code",
   "execution_count": 2,
   "id": "5cb05757-70b1-4dff-9f6b-d55d37694b75",
   "metadata": {},
   "outputs": [
    {
     "name": "stdout",
     "output_type": "stream",
     "text": [
      "Fido\n",
      "Woof!\n"
     ]
    }
   ],
   "source": [
    "class Animal:\n",
    "    def __init__(self, name):\n",
    "        self.name = name\n",
    "        \n",
    "    def speak(self):\n",
    "        print(\"Animal sound\")\n",
    "    \n",
    "class Dog(Animal):\n",
    "    def speak(self):\n",
    "        print(\"Woof!\")\n",
    "        \n",
    "my_dog = Dog(\"Fido\")\n",
    "print(my_dog.name)\n",
    "my_dog.speak()\n"
   ]
  },
  {
   "cell_type": "code",
   "execution_count": 3,
   "id": "0614b54a-a70c-493e-855f-3b5b67592eb5",
   "metadata": {},
   "outputs": [
    {
     "name": "stdout",
     "output_type": "stream",
     "text": [
      "Method of class A\n"
     ]
    }
   ],
   "source": [
    "#multiple iheritance\n",
    "class A:\n",
    "    def method(self):\n",
    "        print(\"Method of class A\")\n",
    "        \n",
    "class B:\n",
    "    def method(self):\n",
    "        print(\"Method of class B\")\n",
    "        \n",
    "class C(A, B):\n",
    "    pass\n",
    "        \n",
    "my_c = C()\n",
    "my_c.method()\n"
   ]
  },
  {
   "cell_type": "code",
   "execution_count": null,
   "id": "fcf8044b-3c12-4866-85f0-c8904886b218",
   "metadata": {},
   "outputs": [],
   "source": [
    "#multilevel inheritance\n",
    "class Animal:\n",
    "    def __init__(self, name):\n",
    "        self.name = name\n",
    "        \n",
    "    def speak(self):\n",
    "        print(\"Animal sound\")\n",
    "    \n",
    "class Dog(Animal):\n",
    "    def speak(self):\n",
    "        print(\"Woof!\")\n",
    "        \n",
    "class Bulldog(Dog):\n",
    "    pass\n",
    "        \n",
    "my_dog = Bulldog(\"Fido\")\n",
    "print(my_dog.name)\n",
    "my_dog.speak()\n"
   ]
  }
 ],
 "metadata": {
  "kernelspec": {
   "display_name": "Python 3 (ipykernel)",
   "language": "python",
   "name": "python3"
  },
  "language_info": {
   "codemirror_mode": {
    "name": "ipython",
    "version": 3
   },
   "file_extension": ".py",
   "mimetype": "text/x-python",
   "name": "python",
   "nbconvert_exporter": "python",
   "pygments_lexer": "ipython3",
   "version": "3.10.8"
  }
 },
 "nbformat": 4,
 "nbformat_minor": 5
}
