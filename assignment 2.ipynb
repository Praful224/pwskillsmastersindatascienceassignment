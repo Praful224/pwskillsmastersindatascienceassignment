{
 "cells": [
  {
   "cell_type": "code",
   "execution_count": 18,
   "id": "92a4c4e8-b88e-4613-b5f1-417bbe99bbeb",
   "metadata": {},
   "outputs": [
    {
     "data": {
      "text/plain": [
       "'Q1. Which keyword is used to create a function? Create a function to return a list of odd numbers in the\\nrange of 1 to 25.'"
      ]
     },
     "execution_count": 18,
     "metadata": {},
     "output_type": "execute_result"
    }
   ],
   "source": [
    "\"\"\"Q1. Which keyword is used to create a function? Create a function to return a list of odd numbers in the\n",
    "range of 1 to 25.\"\"\""
   ]
  },
  {
   "cell_type": "code",
   "execution_count": 14,
   "id": "aacff175-9bcd-4ba5-861f-ad6a5aa99dc2",
   "metadata": {},
   "outputs": [],
   "source": [
    "def odd_numbers():\n",
    "    return [i for i in range(1, 26) if i % 2 != 0]\n"
   ]
  },
  {
   "cell_type": "code",
   "execution_count": 15,
   "id": "d61ee9d7-f764-4a57-b7f3-a93818650b90",
   "metadata": {},
   "outputs": [
    {
     "data": {
      "text/plain": [
       "[1, 3, 5, 7, 9, 11, 13, 15, 17, 19, 21, 23, 25]"
      ]
     },
     "execution_count": 15,
     "metadata": {},
     "output_type": "execute_result"
    }
   ],
   "source": [
    "odd_numbers()"
   ]
  },
  {
   "cell_type": "code",
   "execution_count": 17,
   "id": "0a6841d0-efe2-4f67-af5b-7c73daa8b2fb",
   "metadata": {},
   "outputs": [
    {
     "data": {
      "text/plain": [
       "'Q2. Why *args and **kwargs is used in some functions? Create a function each for *args and **kwargs\\nto demonstrate their use.'"
      ]
     },
     "execution_count": 17,
     "metadata": {},
     "output_type": "execute_result"
    }
   ],
   "source": [
    "\"\"\"Q2. Why *args and **kwargs is used in some functions? Create a function each for *args and **kwargs\n",
    "to demonstrate their use.\"\"\""
   ]
  },
  {
   "cell_type": "code",
   "execution_count": 20,
   "id": "142901f8-0a5a-43b1-9435-16e9d3bf9fd0",
   "metadata": {},
   "outputs": [
    {
     "data": {
      "text/plain": [
       "\"In Python, *args and **kwargs are used in function definitions to allow for a variable number of arguments to be passed into the function.\\n*args is used to pass a variable number of non-keyword arguments to a function. It allows the function to take any number of arguments and treat them as a tuple. This is useful when we don't know in advance how many arguments the function will be called with\""
      ]
     },
     "execution_count": 20,
     "metadata": {},
     "output_type": "execute_result"
    }
   ],
   "source": [
    "\"\"\"In Python, *args and **kwargs are used in function definitions to allow for a variable number of arguments to be passed into the function.\n",
    "*args is used to pass a variable number of non-keyword arguments to a function. It allows the function to take any number of arguments and treat them as a tuple. This is useful when we don't know in advance how many arguments the function will be called with\"\"\""
   ]
  },
  {
   "cell_type": "code",
   "execution_count": 23,
   "id": "38a8b78b-3366-432d-825f-b41aff54d21e",
   "metadata": {},
   "outputs": [],
   "source": [
    "\n",
    "def my_sum(*args):\n",
    "    total=0\n",
    "    for arg in args:\n",
    "        total+=arg\n",
    "    return total    "
   ]
  },
  {
   "cell_type": "code",
   "execution_count": 24,
   "id": "4a8dcd94-63ea-4b3e-a094-347a3abaf3c5",
   "metadata": {},
   "outputs": [
    {
     "data": {
      "text/plain": [
       "31"
      ]
     },
     "execution_count": 24,
     "metadata": {},
     "output_type": "execute_result"
    }
   ],
   "source": [
    "my_sum(4,5,6,7,8,1)"
   ]
  },
  {
   "cell_type": "code",
   "execution_count": 31,
   "id": "3b05d41e-bd1c-4968-9942-41ab05fdeb53",
   "metadata": {},
   "outputs": [],
   "source": [
    "def person(**kwargs):\n",
    "    return kwargs"
   ]
  },
  {
   "cell_type": "code",
   "execution_count": 33,
   "id": "d031d2d8-f1dd-49e4-8e96-fbd24f7df96f",
   "metadata": {},
   "outputs": [
    {
     "data": {
      "text/plain": [
       "{'age': 28, 'city': 'agbd'}"
      ]
     },
     "execution_count": 33,
     "metadata": {},
     "output_type": "execute_result"
    }
   ],
   "source": [
    "person(age=28,city=\"agbd\")"
   ]
  },
  {
   "cell_type": "code",
   "execution_count": 34,
   "id": "71bf4284-f2cc-48e0-a2a5-c02ebf17b8c5",
   "metadata": {},
   "outputs": [
    {
     "data": {
      "text/plain": [
       "'Q3. What is an iterator in python? Name the method used to initialise the iterator object and the method\\nused for iteration. Use these methods to print the first five elements of the given list [2, 4, 6, 8, 10, 12, 14,\\n16, 18, 20].'"
      ]
     },
     "execution_count": 34,
     "metadata": {},
     "output_type": "execute_result"
    }
   ],
   "source": [
    "\"\"\"Q3. What is an iterator in python? Name the method used to initialise the iterator object and the method\n",
    "used for iteration. Use these methods to print the first five elements of the given list [2, 4, 6, 8, 10, 12, 14,\n",
    "16, 18, 20].\"\"\""
   ]
  },
  {
   "cell_type": "code",
   "execution_count": 1,
   "id": "80c15740-f3f7-4eb8-a879-c7df17db8c2d",
   "metadata": {},
   "outputs": [
    {
     "data": {
      "text/plain": [
       "'An iterator in Python is an object that can be iterated (looped) upon. It is used to traverse a container and access its elements one by one. The iterator object can be created using the iter() method and the next() method is used to iterate through the elements.'"
      ]
     },
     "execution_count": 1,
     "metadata": {},
     "output_type": "execute_result"
    }
   ],
   "source": [
    "\"\"\"An iterator in Python is an object that can be iterated (looped) upon. It is used to traverse a container and access its elements one by one. The iterator object can be created using the iter() method and the next() method is used to iterate through the elements.\"\"\""
   ]
  },
  {
   "cell_type": "code",
   "execution_count": 2,
   "id": "2b0eb912-4f9e-4e91-b38b-131ddf997a9e",
   "metadata": {},
   "outputs": [
    {
     "name": "stdout",
     "output_type": "stream",
     "text": [
      "2\n",
      "4\n",
      "6\n",
      "8\n",
      "10\n"
     ]
    }
   ],
   "source": [
    "mylist=[2, 4, 6, 8, 10, 12, 14,16, 18, 20]\n",
    "my_iter = iter(mylist)\n",
    "print(next(my_iter))\n",
    "print(next(my_iter))\n",
    "print(next(my_iter))\n",
    "print(next(my_iter))\n",
    "print(next(my_iter))\n"
   ]
  },
  {
   "cell_type": "code",
   "execution_count": 3,
   "id": "cfd642ac-ebb0-40dc-bc2e-1cf6553e6f10",
   "metadata": {},
   "outputs": [
    {
     "data": {
      "text/plain": [
       "'A generator function in Python is a special type of function that can be used to create iterators. It uses the yield keyword instead of return to return a value, and the state of the function is saved between successive calls. When the generator function is called, it returns an iterator object, which can be used to iterate over the generated sequence of values.\\n\\nThe yield keyword is used to return a value from the generator function, but it also saves the state of the function so that it can be resumed from where it left off the next time it is called. This allows the generator to produce a sequence of values on-the-fly, without needing to generate all of the values at once or store them in memory.'"
      ]
     },
     "execution_count": 3,
     "metadata": {},
     "output_type": "execute_result"
    }
   ],
   "source": [
    "\"\"\"A generator function in Python is a special type of function that can be used to create iterators. It uses the yield keyword instead of return to return a value, and the state of the function is saved between successive calls. When the generator function is called, it returns an iterator object, which can be used to iterate over the generated sequence of values.\n",
    "\n",
    "The yield keyword is used to return a value from the generator function, but it also saves the state of the function so that it can be resumed from where it left off the next time it is called. This allows the generator to produce a sequence of values on-the-fly, without needing to generate all of the values at once or store them in memory.\"\"\""
   ]
  },
  {
   "cell_type": "code",
   "execution_count": 6,
   "id": "d6faf082-c79a-4a64-a6ca-a5ea4bf91857",
   "metadata": {},
   "outputs": [],
   "source": [
    "def fibonacci():\n",
    "    a, b = 0, 1\n",
    "    while True:\n",
    "        yield a\n",
    "        a, b = b, a + b\n"
   ]
  },
  {
   "cell_type": "code",
   "execution_count": 7,
   "id": "91bb572d-e985-41b7-bae8-1bd0108e9d8f",
   "metadata": {},
   "outputs": [
    {
     "name": "stdout",
     "output_type": "stream",
     "text": [
      "0\n",
      "1\n",
      "1\n",
      "2\n",
      "3\n",
      "5\n",
      "8\n",
      "13\n",
      "21\n",
      "34\n"
     ]
    }
   ],
   "source": [
    "f = fibonacci()\n",
    "for i in range(10):\n",
    "    print(next(f))\n"
   ]
  },
  {
   "cell_type": "code",
   "execution_count": 4,
   "id": "4f0450a8-369c-404e-b9a4-3bb7040617e6",
   "metadata": {},
   "outputs": [],
   "source": [
    "def primes():\n",
    "    yield 2\n",
    "    primes_list = [2]\n",
    "    n = 3\n",
    "    while n < 1000:\n",
    "        is_prime = True\n",
    "        for p in primes_list:\n",
    "            if p * p > n:\n",
    "                break\n",
    "            if n % p == 0:\n",
    "                is_prime = False\n",
    "                break\n",
    "        if is_prime:\n",
    "            primes_list.append(n)\n",
    "            yield n\n",
    "        n += 2\n"
   ]
  },
  {
   "cell_type": "code",
   "execution_count": 5,
   "id": "2b907bc7-e40d-4b55-abae-75ccfc92afdf",
   "metadata": {},
   "outputs": [
    {
     "name": "stdout",
     "output_type": "stream",
     "text": [
      "2\n",
      "3\n",
      "5\n",
      "7\n",
      "11\n",
      "13\n",
      "17\n",
      "19\n",
      "23\n",
      "29\n",
      "31\n",
      "37\n",
      "41\n",
      "43\n",
      "47\n",
      "53\n",
      "59\n",
      "61\n",
      "67\n",
      "71\n"
     ]
    }
   ],
   "source": [
    "p = primes()\n",
    "for i in range(20):\n",
    "    print(next(p))\n"
   ]
  },
  {
   "cell_type": "code",
   "execution_count": 1,
   "id": "f5d719b8-41b5-4c97-9a4e-ba9d225bf29a",
   "metadata": {},
   "outputs": [
    {
     "data": {
      "text/plain": [
       "'Q6. Write a python program to print the first 10 Fibonacci numbers using a while loop.'"
      ]
     },
     "execution_count": 1,
     "metadata": {},
     "output_type": "execute_result"
    }
   ],
   "source": [
    "\"\"\"Q6. Write a python program to print the first 10 Fibonacci numbers using a while loop.\"\"\""
   ]
  },
  {
   "cell_type": "code",
   "execution_count": 1,
   "id": "58504807-9d7f-4d9d-8fc0-9212e19c65bf",
   "metadata": {},
   "outputs": [
    {
     "name": "stdout",
     "output_type": "stream",
     "text": [
      "0\n",
      "1\n",
      "1\n",
      "2\n",
      "3\n",
      "5\n",
      "8\n",
      "13\n",
      "21\n",
      "34\n"
     ]
    }
   ],
   "source": [
    "# initialize variables\n",
    "num1 = 0\n",
    "num2 = 1\n",
    "count = 0\n",
    "\n",
    "# iterate using a while loop to generate and print the first 10 Fibonacci numbers\n",
    "while count < 10:\n",
    "    print(num1)\n",
    "    nth = num1 + num2\n",
    "    # update values for next iteration\n",
    "    num1 = num2\n",
    "    num2 = nth\n",
    "    count += 1\n"
   ]
  },
  {
   "cell_type": "code",
   "execution_count": 5,
   "id": "8f77ad1a-bdba-46fc-8fc4-bd5c4016a141",
   "metadata": {},
   "outputs": [
    {
     "name": "stdout",
     "output_type": "stream",
     "text": [
      "['p', 'w', 's', 'k', 'i', 'l', 'l', 's']\n"
     ]
    }
   ],
   "source": [
    "str1=\"pwskills\"\n",
    "str2=[char for char in str1 if char in \"pwskills\"]\n",
    "print(str2)"
   ]
  },
  {
   "cell_type": "code",
   "execution_count": 6,
   "id": "a2994489-dd23-438b-834e-59f528ad08ae",
   "metadata": {},
   "outputs": [
    {
     "data": {
      "text/plain": [
       "'Q8. Write a python program to check whether a given number is Palindrome or not using a while loop.'"
      ]
     },
     "execution_count": 6,
     "metadata": {},
     "output_type": "execute_result"
    }
   ],
   "source": [
    "\"\"\"Q8. Write a python program to check whether a given number is Palindrome or not using a while loop.\"\"\""
   ]
  },
  {
   "cell_type": "code",
   "execution_count": 13,
   "id": "86b8a4a0-51c6-450d-b747-be5a35bfc82f",
   "metadata": {},
   "outputs": [
    {
     "name": "stdin",
     "output_type": "stream",
     "text": [
      "enter your number 12\n"
     ]
    },
    {
     "name": "stdout",
     "output_type": "stream",
     "text": [
      "number is not pallindrome\n"
     ]
    }
   ],
   "source": [
    "n=(input(\"enter your number\"))\n",
    "n1=str(n)[::-1]\n",
    "if n==n1:\n",
    "    print(\"number is pallindrome\")\n",
    "else :\n",
    "    print(\"number is not pallindrome\")"
   ]
  },
  {
   "cell_type": "code",
   "execution_count": 14,
   "id": "a84fe392-1626-4f68-8af7-73f07417cb70",
   "metadata": {},
   "outputs": [
    {
     "data": {
      "text/plain": [
       "'Q9. Write a code to print odd numbers from 1 to 100 using list comprehension.'"
      ]
     },
     "execution_count": 14,
     "metadata": {},
     "output_type": "execute_result"
    }
   ],
   "source": [
    "\"\"\"Q9. Write a code to print odd numbers from 1 to 100 using list comprehension.\"\"\""
   ]
  },
  {
   "cell_type": "code",
   "execution_count": null,
   "id": "b5f3395e-f8a7-43c8-ae8b-c5a285892732",
   "metadata": {},
   "outputs": [],
   "source": [
    "n=[int for int in range(1,100) if ]"
   ]
  }
 ],
 "metadata": {
  "kernelspec": {
   "display_name": "Python 3 (ipykernel)",
   "language": "python",
   "name": "python3"
  },
  "language_info": {
   "codemirror_mode": {
    "name": "ipython",
    "version": 3
   },
   "file_extension": ".py",
   "mimetype": "text/x-python",
   "name": "python",
   "nbconvert_exporter": "python",
   "pygments_lexer": "ipython3",
   "version": "3.10.8"
  }
 },
 "nbformat": 4,
 "nbformat_minor": 5
}
